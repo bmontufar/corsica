{
  "nbformat": 4,
  "nbformat_minor": 0,
  "metadata": {
    "colab": {
      "name": "MontufarB_w251HW11.ipynb",
      "provenance": [],
      "authorship_tag": "ABX9TyPUcbIV75i8+3SzblEGlwLj"
    },
    "kernelspec": {
      "name": "python3",
      "display_name": "Python 3"
    },
    "language_info": {
      "name": "python"
    }
  },
  "cells": [
    {
      "cell_type": "markdown",
      "metadata": {
        "id": "MmjYdYSENysu"
      },
      "source": [
        "# **HW 11 w251**\n",
        "## Bernardo Montufar\n",
        "\n",
        "Highest Average Reward: 237\n",
        "\n",
        "1. What parameters did you change, and what values did you use?\n",
        "\n",
        "  I changed all the parameters:\n",
        "  * *density_first_layer*: I increased the layer density to 32, this produced faster convergence towards higher rewards. Final model: increased to 32\n",
        "  * *density_second_layer*: Similar to first layer. Final model increased to 16\n",
        "  * *num_epochs*: Increasing the number of epochs seemed to create better results (but overdoing it decreased the convergence). Final model increased to 4\n",
        "  * *batch_size*: Smaller batch sizes proved more effective. Final model, decreased to 32\n",
        "  * *epsilon_min*: I was not able to determine the effect of changes in epsilon. Final model: no change\n",
        "\n",
        "2. Did you try any other changes (like adding layers or changing the epsilon value) that made things better or worse?\n",
        "   \n",
        "   I did not try to add layers, changing the epsilon value did not cause clear changes for me. Except when making large changes, in which case the model didn't converge.\n",
        "\n",
        "3. Did your changes improve or degrade the model? How close did you get to a test run with 100% of the scores above 200?\n",
        "   \n",
        "   Either direction, some changes clearly improved, large deviations from the values degraded the model \n",
        "4. Based on what you observed, what conclusions can you draw about the different parameters and their values?\n",
        "  \n",
        "   Answered in 1.\n",
        "5. What is the purpose of the epsilon value?\n",
        "   \n",
        "   The epsilon value determines how often the model chooses a random next action and how often it chooses the highest scoring next action (Q value) It begins at 100% (all random) and decreases to 1%\n",
        "6. Describe \"Q-Learning\".\n",
        "  \n",
        "   It is a machine learning technique where the model chooses the optimal next value based on the highest posible reward over a series of steps. It selects steps at random initially and then learns what are the steps that give it higher rewards to reinforce the selection of those steps\n",
        "\n",
        "   "
      ]
    }
  ]
}